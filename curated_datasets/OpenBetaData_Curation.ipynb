{
 "cells": [
  {
   "cell_type": "code",
   "execution_count": 2,
   "metadata": {},
   "outputs": [],
   "source": [
    "# This notebook produces a dataset from the full August 2020 Open Beta database. In summary:\n",
    "# (1) types are simplified, aid, ice, mixed (as in mixed ice and rock), and snow routes are removed\n",
    "# (2) - grades are reformatted to yeild two new columns: YDS and Vermin, 3rd and 4th class routes are removed\n",
    "#     - grades with +/- are created (i.e. 5.12- is converted to 5.12a/b and V9- is converted to V8/9)\n",
    "# (3) unambiguous numerical grade ranks are added (see grade_rank_calculation.py)\n",
    "# (4) metadata is extracted to new columns\n",
    "# (5) rows with missing route names, IDs, or sector IDs are removed\n",
    "\n",
    "import pandas as pd\n",
    "import numpy as np\n",
    "import re\n",
    "from grade_rank_calculation import calculate_grade_rank"
   ]
  },
  {
   "cell_type": "code",
   "execution_count": 3,
   "metadata": {},
   "outputs": [],
   "source": [
    "# all route data (does not have stars or vote numbers)\n",
    "df = pd.read_json('../openbeta-usa-routes-aug-2020.zip', lines=True)"
   ]
  },
  {
   "cell_type": "code",
   "execution_count": 4,
   "metadata": {},
   "outputs": [
    {
     "name": "stdout",
     "output_type": "stream",
     "text": [
      "simplified types are: {'mixed', 'boulder', 'trad', 'sport'}\n",
      "171237 routes after type filter removing aid, ice, mixed (as in ice + rock), snow, and untyped routes\n"
     ]
    }
   ],
   "source": [
    "# (1) Removing unwanted types and reformatting/simplifying the types given\n",
    "\n",
    "# tr and alpine are not useful types for my purposes\n",
    "df['type_string'] = [' '.join(sorted([sty for sty in ty if sty not in ('tr', 'alpine')])) for ty in df.type] \n",
    "\n",
    "# not concerned with aid, ice, mixed, or snow routes\n",
    "unused_types = ['aid', 'ice', 'mixed', 'snow']\n",
    "df = df[~df.type_string.str.contains('|'.join(unused_types))]\n",
    "\n",
    "# retyping multi-type climbs\n",
    "df.loc[df.type_string == 'boulder trad', 'type_string'] = 'boulder' # this one is tricky, but most of these are dangerous boulders that could take gear\n",
    "df.loc[df.type_string == 'boulder sport', 'type_string'] = 'sport' # if its gots bolts its sports\n",
    "df.loc[df.type_string == 'sport trad', 'type_string'] = 'mixed' # these are usually called mixed in the rock game (not to be confused with ice/rock routes climbed with tools and pons)\n",
    "df = df[df.type_string != 'boulder sport trad'] # \"boulder sport trad\" is just a stupid type (who put this on MP?), so I'm just removing it\n",
    "df = df[df.type_string != ''] # empty types are removed\n",
    "\n",
    "print('simplified types are:', set(df.type_string))\n",
    "print(len(df.index), 'routes after type filter removing aid, ice, mixed (as in ice + rock), snow, and untyped routes')"
   ]
  },
  {
   "cell_type": "code",
   "execution_count": 5,
   "metadata": {},
   "outputs": [
    {
     "name": "stdout",
     "output_type": "stream",
     "text": [
      "168933 routes after grade filters removing 3rd and 4th class and unrated climbs\n"
     ]
    }
   ],
   "source": [
    "# (2) Grade formatting and removing unwanted grades (3rd and 4th), simplifying to YDS and Vermin only\n",
    "\n",
    "# For some reason V grades are listed under YDS, which is incorrect, this is fixed\n",
    "df['YDS_or_Vermin'] = [d.get('YDS') for d in df.grade]\n",
    "df = df[df.YDS_or_Vermin.notnull()]\n",
    "unused_grades = ['easy', '3rd', '4th']\n",
    "df = df[~df.YDS_or_Vermin.str.contains('|'.join(unused_grades))]\n",
    "required_grades = ['5.', 'V']\n",
    "df = df[df.YDS_or_Vermin.str.contains('|'.join(required_grades))]\n",
    "\n",
    "df.loc[df.YDS_or_Vermin == 'Easy 5th', 'YDS_or_Vermin'] = '5.0' # calling easy 5th 5.0\n",
    "df.loc[df.YDS_or_Vermin == 'V-easy', 'YDS_or_Vermin'] = 'V0-' # will be converted to VB in the next cell, VB is the correct grade for this scenario\n",
    "\n",
    "df['Vermin'] = np.where(df.YDS_or_Vermin.str.contains('V'), df.YDS_or_Vermin, None)\n",
    "df['YDS'] = np.where(df.YDS_or_Vermin.str.contains('5.', regex=False), df.YDS_or_Vermin, None)\n",
    "df = df[df.Vermin != 'V?'] # why would you ever use this grade? It is the same as not grading\n",
    "\n",
    "# +/- grades are converted to grade ranges, this conversion is added as a new column, this simplifies grade rankings\n",
    "# for YDS <= 5.9:\n",
    "# 5.X- -> 5.X-1/X\n",
    "# 5.X+ -> 5.X/X+1\n",
    "# for YDS > 5.9:\n",
    "# 5.X- -> 5.Xa/b\n",
    "# 5.X+ -> 5.Xc/d\n",
    "# for Vermin:\n",
    "# VX+ -> VX/X+1\n",
    "# VX- -> VX-1/X\n",
    "\n",
    "def isfloat(value):\n",
    "    try:\n",
    "        float(value)\n",
    "        return True\n",
    "    except ValueError:\n",
    "        return False\n",
    "    \n",
    "def convert_pm_grading(grade):\n",
    "    \n",
    "    if grade == None:\n",
    "        return grade\n",
    "    \n",
    "    # YDS condition\n",
    "    if '5.' in grade:\n",
    "        num = int(re.sub('[^0-9]', '', grade.split('.')[-1]))\n",
    "                \n",
    "        # routes less than 5.10\n",
    "        if num < 10:\n",
    "            if '+' in grade:\n",
    "                ran = str(num) + '/' + str(num + 1)\n",
    "                if num == 9:\n",
    "                    ran = '9+' # keep the (in)famous 5.9+\n",
    "            elif '-' in grade:\n",
    "                ran = str(num - 1) + '/' + str(num)\n",
    "            else:\n",
    "                return grade\n",
    "            \n",
    "        # routes greater than 5.9\n",
    "        if num > 9:\n",
    "            if '+' in grade:\n",
    "                ran = str(num) + 'c/d'\n",
    "            elif '-' in grade:\n",
    "                ran = str(num) + 'a/b'\n",
    "            else:\n",
    "                if isfloat(grade.split('.')[-1]): # e.g. 5.11 is converted to 5.11b/c\n",
    "                    return grade + 'b/c'\n",
    "                else:\n",
    "                    return grade\n",
    "        \n",
    "        new_grade = '5.' + ran\n",
    "            \n",
    "    # Vermin condition\n",
    "    if 'V' in grade:\n",
    "        \n",
    "        range_comp = grade.split('-')\n",
    "        \n",
    "        if len(range_comp) > 1 and range_comp[-1] != '': # check if a range grade is already given\n",
    "            range_grade = True\n",
    "            return re.sub('[-]', '/', grade)\n",
    "        else:\n",
    "            range_grade = False\n",
    "        \n",
    "        if not range_grade:\n",
    "            num = int(re.sub('[^0-9]', '', grade))\n",
    "            \n",
    "            if '+' in grade:\n",
    "                ran = str(num) + '/' + str(num + 1)\n",
    "            elif '-' in grade:\n",
    "                ran = str(num - 1) + '/' + str(num)\n",
    "            else:\n",
    "                return grade\n",
    "        \n",
    "            new_grade = 'V' + ran\n",
    "            \n",
    "            if new_grade == 'V-1/0': # V0- is converted to VB (who is grading boulders V0-?)\n",
    "                return 'VB'\n",
    "    \n",
    "    return new_grade\n",
    "\n",
    "df['nopm_YDS'] = df.apply(lambda row: convert_pm_grading(row['YDS']), axis = 1)\n",
    "df['nopm_Vermin'] = df.apply(lambda row: convert_pm_grading(row['Vermin']), axis = 1)\n",
    "\n",
    "print(len(df.index), 'routes after grade filters removing 3rd and 4th class and unrated climbs')"
   ]
  },
  {
   "cell_type": "code",
   "execution_count": 6,
   "metadata": {},
   "outputs": [],
   "source": [
    "# (3) grade integer assignment, from Viet's implementation for YDS grades, this function works for all YDS and Vermin grade formats seen in the dataset\n",
    "\n",
    "df['YDS_rank'] = df.apply(lambda row: calculate_grade_rank(row['YDS']), axis = 1)\n",
    "df['Vermin_rank'] = df.apply(lambda row: calculate_grade_rank(row['Vermin']), axis = 1)                           "
   ]
  },
  {
   "cell_type": "code",
   "execution_count": 7,
   "metadata": {},
   "outputs": [],
   "source": [
    "# (4) Extracting metadata to columns\n",
    "\n",
    "df['route_ID'] = [d.get('mp_route_id') for d in df.metadata]\n",
    "df['sector_ID'] = [d.get('mp_sector_id') for d in df.metadata]\n",
    "df['parent_loc'] = [d.get('parent_lnglat') for d in df.metadata]\n",
    "df['parent_sector'] = [d.get('parent_sector') for d in df.metadata]"
   ]
  },
  {
   "cell_type": "code",
   "execution_count": 9,
   "metadata": {},
   "outputs": [
    {
     "name": "stdout",
     "output_type": "stream",
     "text": [
      "168910 after general missing filters\n"
     ]
    }
   ],
   "source": [
    "# (5) removing more missing data\n",
    "\n",
    "df = df[df['route_name'] != '']\n",
    "df = df[df['route_ID'] != '']\n",
    "df = df[df['sector_ID'] != '']\n",
    "df['route_ID'].astype(int)\n",
    "\n",
    "print(len(df.index), 'routes after general missing filters')"
   ]
  },
  {
   "cell_type": "code",
   "execution_count": 10,
   "metadata": {},
   "outputs": [],
   "source": [
    "# (6) Taking columns I want and making/saving new dataframe\n",
    "\n",
    "clean_df = df[['route_name', 'parent_sector', 'route_ID', 'sector_ID', \n",
    "               'type_string', 'fa', 'YDS', 'Vermin', 'nopm_YDS', 'nopm_Vermin', 'YDS_rank', 'Vermin_rank', \n",
    "               'safety', 'parent_loc', 'description', 'location', 'protection']].copy()\n",
    "\n",
    "clean_df.to_pickle('Curated_OpenBetaAug2020_RytherAnderson.pkl.zip', compression='zip')"
   ]
  },
  {
   "cell_type": "code",
   "execution_count": null,
   "metadata": {},
   "outputs": [],
   "source": []
  }
 ],
 "metadata": {
  "kernelspec": {
   "display_name": "Python 3",
   "language": "python",
   "name": "python3"
  },
  "language_info": {
   "codemirror_mode": {
    "name": "ipython",
    "version": 3
   },
   "file_extension": ".py",
   "mimetype": "text/x-python",
   "name": "python",
   "nbconvert_exporter": "python",
   "pygments_lexer": "ipython3",
   "version": "3.8.5"
  }
 },
 "nbformat": 4,
 "nbformat_minor": 4
}
