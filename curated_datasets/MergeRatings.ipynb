{
 "cells": [
  {
   "cell_type": "code",
   "execution_count": 1,
   "metadata": {},
   "outputs": [],
   "source": [
    "# This notebook merges the curated dataset (only technical rock climbs) with the set of MP user ratings\n",
    "\n",
    "import pandas as pd\n",
    "import numpy as np\n",
    "import glob"
   ]
  },
  {
   "cell_type": "code",
   "execution_count": 2,
   "metadata": {},
   "outputs": [],
   "source": [
    "# my curated data, without rating data\n",
    "nr_df = pd.read_pickle('Curated_OpenBetaAug2020_RytherAnderson.pkl.zip')\n",
    "nr_df['route_ID'] = nr_df['route_ID'].astype(int)"
   ]
  },
  {
   "cell_type": "code",
   "execution_count": 3,
   "metadata": {},
   "outputs": [
    {
     "name": "stdout",
     "output_type": "stream",
     "text": [
      "99682 routes with star ratings\n"
     ]
    }
   ],
   "source": [
    "# all the rating files are concatenated\n",
    "\n",
    "rating_files = glob.glob('../ratings/*.zip')\n",
    "AR = pd.read_csv(rating_files[0], compression='zip')\n",
    "\n",
    "for rf in rating_files[1:]:\n",
    "    df = pd.read_csv(rf, compression='zip')\n",
    "    join = [AR, df]\n",
    "    AR = pd.concat(join)\n",
    "    \n",
    "AR.to_pickle('All_Ratings.pkl.zip', compression='zip')\n",
    "AR = pd.read_pickle('All_Ratings.pkl.zip', compression='zip')\n",
    "unique_ids = set(AR.route_id)\n",
    "print(len(unique_ids), 'routes with star ratings')"
   ]
  },
  {
   "cell_type": "code",
   "execution_count": 4,
   "metadata": {},
   "outputs": [],
   "source": [
    "# this cell takes a long time, evaluate only if you are ready, probably I wrote it in a silly way\n",
    "# here the list of star ratings and users are added to each route\n",
    "\n",
    "ratings_df = nr_df[nr_df['route_ID'].isin(unique_ids)].copy()\n",
    "ratings_df['ratings'] = [list(AR[AR.route_id == id]['ratings']) for id in ratings_df.route_ID]\n",
    "ratings_df['users'] = [list(AR[AR.route_id == id]['users']) for id in ratings_df.route_ID]\n",
    "\n",
    "ratings_df.head()"
   ]
  },
  {
   "cell_type": "code",
   "execution_count": 28,
   "metadata": {},
   "outputs": [],
   "source": [
    "# some ratings lists have duplicated sets of ratings (all ratings in the Flatirons, for example), here those\n",
    "# are found and fixed. The lists that have duplicated sets also have duplicated users, so it is easy to check.\n",
    "\n",
    "fixed_ratings_df = ratings_df.copy()\n",
    "\n",
    "def check_replication(users, ratings):\n",
    "    \n",
    "    rating_dict = dict((u,r) for u,r in zip(users, ratings))\n",
    "    unique_users = list(set(users))\n",
    "    unique_ratings = [rating_dict[u] for u in unique_users]\n",
    "    \n",
    "    return [(u,r) for u,r in zip(unique_users, unique_ratings)]\n",
    "\n",
    "fixed_ratings_df['corrected_users_ratings'] = fixed_ratings_df.apply(lambda row: check_replication(row['users'], row['ratings']), axis = 1)\n",
    "\n",
    "fixed_ratings_df = fixed_ratings_df[['route_name', 'parent_sector', 'route_ID', 'sector_ID', \n",
    "                                     'type_string', 'fa', 'YDS', 'Vermin', 'nopm_YDS', 'nopm_Vermin', 'YDS_rank', 'Vermin_rank', \n",
    "                                     'safety', 'parent_loc', 'description', 'location', 'protection', 'corrected_users_ratings']].copy()\n",
    "\n",
    "fixed_ratings_df.to_pickle('CuratedWithRatings_OpenBetaAug2020_RytherAnderson.pkl.zip', compression='zip')"
   ]
  },
  {
   "cell_type": "code",
   "execution_count": 29,
   "metadata": {},
   "outputs": [
    {
     "data": {
      "text/plain": [
       "Index(['route_name', 'parent_sector', 'route_ID', 'sector_ID', 'type_string',\n",
       "       'fa', 'YDS', 'Vermin', 'nopm_YDS', 'nopm_Vermin', 'YDS_rank',\n",
       "       'Vermin_rank', 'safety', 'parent_loc', 'description', 'location',\n",
       "       'protection', 'ratings', 'users', 'corrected_users_ratings'],\n",
       "      dtype='object')"
      ]
     },
     "execution_count": 29,
     "metadata": {},
     "output_type": "execute_result"
    }
   ],
   "source": [
    "fixed_ratings_df.columns"
   ]
  },
  {
   "cell_type": "code",
   "execution_count": null,
   "metadata": {},
   "outputs": [],
   "source": []
  }
 ],
 "metadata": {
  "kernelspec": {
   "display_name": "Python 3",
   "language": "python",
   "name": "python3"
  },
  "language_info": {
   "codemirror_mode": {
    "name": "ipython",
    "version": 3
   },
   "file_extension": ".py",
   "mimetype": "text/x-python",
   "name": "python",
   "nbconvert_exporter": "python",
   "pygments_lexer": "ipython3",
   "version": "3.8.5"
  }
 },
 "nbformat": 4,
 "nbformat_minor": 4
}
