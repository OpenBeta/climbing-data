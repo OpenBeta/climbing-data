{
 "cells": [
  {
   "cell_type": "code",
   "execution_count": 4,
   "metadata": {},
   "outputs": [],
   "source": [
    "# This notebook merges the curated dataset (only technical rock climbs) with the set of MP user ratings\n",
    "\n",
    "import pandas as pd\n",
    "import numpy as np\n",
    "import glob"
   ]
  },
  {
   "cell_type": "code",
   "execution_count": 5,
   "metadata": {},
   "outputs": [],
   "source": [
    "# my curated data, without rating data\n",
    "nr_df = pd.read_pickle('Curated_OpenBetaAug2020_RytherAnderson.pkl.zip')\n",
    "nr_df['route_ID'] = nr_df['route_ID'].astype(int)"
   ]
  },
  {
   "cell_type": "code",
   "execution_count": 6,
   "metadata": {},
   "outputs": [
    {
     "name": "stdout",
     "output_type": "stream",
     "text": [
      "99682 routes with star ratings\n"
     ]
    }
   ],
   "source": [
    "# all the rating files are concatenated\n",
    "\n",
    "rating_files = glob.glob('../ratings/*.zip')\n",
    "AR = pd.read_csv(rating_files[0], compression='zip')\n",
    "\n",
    "for rf in rating_files[1:]:\n",
    "    df = pd.read_csv(rf, compression='zip')\n",
    "    join = [AR, df]\n",
    "    AR = pd.concat(join)\n",
    "    \n",
    "AR.to_pickle('All_Ratings.pkl.zip', compression='zip')\n",
    "AR = pd.read_pickle('All_Ratings.pkl.zip', compression='zip')\n",
    "unique_ids = set(AR.route_id)\n",
    "print(len(unique_ids), 'routes with star ratings')"
   ]
  },
  {
   "cell_type": "code",
   "execution_count": 7,
   "metadata": {},
   "outputs": [],
   "source": [
    "# this cell takes a long time, evaluate only if you are ready, probably I wrote it in a silly way\n",
    "# here the list of star ratings and users are added to each route\n",
    "\n",
    "ratings_df = nr_df[nr_df['route_ID'].isin(unique_ids)].copy()\n",
    "ratings_df['ratings'] = [list(AR[AR.route_id == id]['ratings']) for id in ratings_df.route_ID]\n",
    "ratings_df['users'] = [list(AR[AR.route_id == id]['users']) for id in ratings_df.route_ID]\n",
    "\n",
    "ratings_df.head()\n",
    "ratings_df.to_pickle('CuratedWithRatings_OpenBetaAug2020_RytherAnderson.pkl')"
   ]
  },
  {
   "cell_type": "code",
   "execution_count": null,
   "metadata": {},
   "outputs": [],
   "source": []
  }
 ],
 "metadata": {
  "kernelspec": {
   "display_name": "Python 3",
   "language": "python",
   "name": "python3"
  },
  "language_info": {
   "codemirror_mode": {
    "name": "ipython",
    "version": 3
   },
   "file_extension": ".py",
   "mimetype": "text/x-python",
   "name": "python",
   "nbconvert_exporter": "python",
   "pygments_lexer": "ipython3",
   "version": "3.8.5"
  }
 },
 "nbformat": 4,
 "nbformat_minor": 4
}
